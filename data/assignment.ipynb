{
 "cells": [
  {
   "cell_type": "code",
   "execution_count": 1,
   "id": "03c975e5-1a33-4221-ae11-eb133563143d",
   "metadata": {},
   "outputs": [],
   "source": [
    "import requests\n",
    "import pandas as pd\n",
    "from typing import List, Dict"
   ]
  },
  {
   "cell_type": "code",
   "execution_count": 2,
   "id": "2cf2c98e-80aa-44df-b0d8-974950fe5718",
   "metadata": {},
   "outputs": [],
   "source": [
    "import requests\n",
    "from typing import List, Dict\n",
    "\n",
    "def fetch_papers(query: str, debug: bool = False) -> List[Dict]:\n",
    "    \"\"\"\n",
    "    Fetch research papers from the PubMed API based on a query.\n",
    "    \n",
    "    Parameters:\n",
    "    - query: A string representing the PubMed query.\n",
    "    - debug: If True, print debug information during execution.\n",
    "    \n",
    "    Returns:\n",
    "    - A list of dictionaries containing details of the fetched papers.\n",
    "    \"\"\"\n",
    "    base_url = \"https://eutils.ncbi.nlm.nih.gov/entrez/eutils/esearch.fcgi\"\n",
    "    details_url = \"https://eutils.ncbi.nlm.nih.gov/entrez/eutils/esummary.fcgi\"\n",
    "    params = {\n",
    "        \"db\": \"pubmed\",\n",
    "        \"term\": query,\n",
    "        \"retmode\": \"json\",\n",
    "        \"retmax\": 100  # Fetch up to 100 papers for demonstration purposes\n",
    "    }\n",
    "\n",
    "    try:\n",
    "        if debug:\n",
    "            print(f\"Sending request to PubMed API: {base_url} with params: {params}\")\n",
    "        response = requests.get(base_url, params=params)\n",
    "        response.raise_for_status()\n",
    "        search_data = response.json()\n",
    "        \n",
    "        paper_ids = search_data.get(\"esearchresult\", {}).get(\"idlist\", [])\n",
    "        if not paper_ids:\n",
    "            if debug:\n",
    "                print(\"No papers found for the query.\")\n",
    "            return []\n",
    "\n",
    "        details_params = {\n",
    "            \"db\": \"pubmed\",\n",
    "            \"id\": \",\".join(paper_ids),\n",
    "            \"retmode\": \"json\"\n",
    "        }\n",
    "        \n",
    "        if debug:\n",
    "            print(f\"Fetching paper details from PubMed API: {details_url} with params: {details_params}\")\n",
    "        details_response = requests.get(details_url, params=details_params)\n",
    "        details_response.raise_for_status()\n",
    "        details_data = details_response.json()\n",
    "\n",
    "        papers = []\n",
    "        for paper_id, details in details_data.get(\"result\", {}).items():\n",
    "            if paper_id == \"uids\":\n",
    "                continue\n",
    "            papers.append({\n",
    "                \"PubmedID\": paper_id,\n",
    "                \"Title\": details.get(\"title\", \"N/A\"),\n",
    "                \"PublicationDate\": details.get(\"pubdate\", \"N/A\"),\n",
    "                \"Authors\": details.get(\"authors\", []),  # To process authors later\n",
    "                \"Affiliation\": details.get(\"source\", \"N/A\")\n",
    "            })\n",
    "\n",
    "        return papers\n",
    "\n",
    "    except requests.exceptions.RequestException as e:\n",
    "        if debug:\n",
    "            print(f\"Error during API request: {e}\")\n",
    "        return []\n"
   ]
  },
  {
   "cell_type": "code",
   "execution_count": 3,
   "id": "d5b81314-1a7d-4283-a88b-4e0199bdfbfd",
   "metadata": {},
   "outputs": [
    {
     "ename": "ModuleNotFoundError",
     "evalue": "No module named 'fetch_papers_module'",
     "output_type": "error",
     "traceback": [
      "\u001b[0;31m---------------------------------------------------------------------------\u001b[0m",
      "\u001b[0;31mModuleNotFoundError\u001b[0m                       Traceback (most recent call last)",
      "Cell \u001b[0;32mIn[3], line 1\u001b[0m\n\u001b[0;32m----> 1\u001b[0m \u001b[38;5;28;01mfrom\u001b[39;00m \u001b[38;5;21;01mfetch_papers_module\u001b[39;00m \u001b[38;5;28;01mimport\u001b[39;00m fetch_papers  \u001b[38;5;66;03m# Replace with your actual module name\u001b[39;00m\n\u001b[1;32m      3\u001b[0m \u001b[38;5;28;01mdef\u001b[39;00m \u001b[38;5;21mtest_fetch_papers\u001b[39m():\n\u001b[1;32m      4\u001b[0m     \u001b[38;5;66;03m# Define a sample PubMed query\u001b[39;00m\n\u001b[1;32m      5\u001b[0m     query \u001b[38;5;241m=\u001b[39m \u001b[38;5;124m\"\u001b[39m\u001b[38;5;124mCOVID-19 vaccine\u001b[39m\u001b[38;5;124m\"\u001b[39m\n",
      "\u001b[0;31mModuleNotFoundError\u001b[0m: No module named 'fetch_papers_module'"
     ]
    }
   ],
   "source": [
    "from fetch_papers_module import fetch_papers  # Replace with your actual module name\n",
    "\n",
    "def test_fetch_papers():\n",
    "    # Define a sample PubMed query\n",
    "    query = \"COVID-19 vaccine\"\n",
    "    debug = True\n",
    "\n",
    "    # Call the function\n",
    "    results = fetch_papers(query, debug)\n",
    "\n",
    "    # Print results\n",
    "    if results:\n",
    "        print(f\"Fetched {len(results)} papers:\")\n",
    "        for paper in results[:5]:  # Print details of the first 5 papers\n",
    "            print(paper)\n",
    "    else:\n",
    "        print(\"No papers fetched or an error occurred.\")\n",
    "\n",
    "\n"
   ]
  },
  {
   "cell_type": "code",
   "execution_count": 5,
   "id": "f23d1683-260e-4ea5-86e2-71edfab0edb8",
   "metadata": {},
   "outputs": [
    {
     "name": "stdout",
     "output_type": "stream",
     "text": [
      "PubMed IDs: ['39772264', '39772162', '39771591', '39771588', '39771501', '39770927', '39770487', '39770472', '39770406', '39770404', '39770249', '39770115', '39769488', '39769470', '39769463', '39769457', '39769428', '39769419', '39769349', '39769237']\n"
     ]
    }
   ],
   "source": [
    "import requests\n",
    "\n",
    "def fetch_pubmed_ids(query):\n",
    "    PUBMED_API_URL = \"https://eutils.ncbi.nlm.nih.gov/entrez/eutils/esearch.fcgi\"\n",
    "    params = {\n",
    "        'db': 'pubmed',\n",
    "        'term': query,\n",
    "        'retmode': 'json'\n",
    "    }\n",
    "    response = requests.get(PUBMED_API_URL, params=params)\n",
    "    response.raise_for_status()\n",
    "    data = response.json()\n",
    "    return data.get(\"esearchresult\", {}).get(\"idlist\", [])\n",
    "\n",
    "# Test the function\n",
    "query = \"biotechnology cancer\"\n",
    "pubmed_ids = fetch_pubmed_ids(query)\n",
    "print(f\"PubMed IDs: {pubmed_ids}\")\n"
   ]
  },
  {
   "cell_type": "code",
   "execution_count": 6,
   "id": "3f1b4d68-dc6c-4955-9946-786151ca715d",
   "metadata": {},
   "outputs": [
    {
     "name": "stdout",
     "output_type": "stream",
     "text": [
      "ID: 39772264, Title: Optimized Directed Virus Evolution to Accelerate the Generation of Oncolytic Coxsackievirus B3 Adapted to Resistant Colorectal Cancer Cells., Authors: [{'name': 'Elsner L', 'authtype': 'Author', 'clusterid': ''}, {'name': 'Dieringer B', 'authtype': 'Author', 'clusterid': ''}, {'name': 'Geisler A', 'authtype': 'Author', 'clusterid': ''}, {'name': 'Girod M', 'authtype': 'Author', 'clusterid': ''}, {'name': 'Van Linthout S', 'authtype': 'Author', 'clusterid': ''}, {'name': 'Kurreck J', 'authtype': 'Author', 'clusterid': ''}, {'name': 'Fechner H', 'authtype': 'Author', 'clusterid': ''}]\n",
      "ID: 39772162, Title: Isothermal Nucleic Acid Amplification for Point-of-Care Primary Cervical Cancer Screening., Authors: [{'name': 'Lamsisi M', 'authtype': 'Author', 'clusterid': ''}, {'name': 'Benlghazi A', 'authtype': 'Author', 'clusterid': ''}, {'name': 'Kouach J', 'authtype': 'Author', 'clusterid': ''}, {'name': 'Laraqui A', 'authtype': 'Author', 'clusterid': ''}, {'name': 'Ennaji MM', 'authtype': 'Author', 'clusterid': ''}, {'name': 'Chauleur C', 'authtype': 'Author', 'clusterid': ''}, {'name': 'Bourlet T', 'authtype': 'Author', 'clusterid': ''}, {'name': 'Li G', 'authtype': 'Author', 'clusterid': ''}]\n",
      "ID: 39771591, Title: Novel Cyclic Peptide-Drug Conjugate P6-SN38 Toward Targeted Treatment of EGFR Overexpressed Non-Small Cell Lung Cancer., Authors: [{'name': 'Bazylevich A', 'authtype': 'Author', 'clusterid': ''}, {'name': 'Miller A', 'authtype': 'Author', 'clusterid': ''}, {'name': 'Tkachenko I', 'authtype': 'Author', 'clusterid': ''}, {'name': 'Merlani M', 'authtype': 'Author', 'clusterid': ''}, {'name': 'Patsenker L', 'authtype': 'Author', 'clusterid': ''}, {'name': 'Gellerman G', 'authtype': 'Author', 'clusterid': ''}, {'name': 'Lubin BCR', 'authtype': 'Author', 'clusterid': ''}]\n",
      "ID: 39771588, Title: A New Heteroleptic Zn(II) Complex with Schiff Bases Sensitizes Triple-Negative Breast Cancer Cells to Doxorubicin and Paclitaxel., Authors: [{'name': 'Machado RADS', 'authtype': 'Author', 'clusterid': ''}, {'name': 'Siqueira RP', 'authtype': 'Author', 'clusterid': ''}, {'name': 'da Silva FC', 'authtype': 'Author', 'clusterid': ''}, {'name': 'Matos ACP', 'authtype': 'Author', 'clusterid': ''}, {'name': 'Borges DS', 'authtype': 'Author', 'clusterid': ''}, {'name': 'Rocha GG', 'authtype': 'Author', 'clusterid': ''}, {'name': 'Souza TCP', 'authtype': 'Author', 'clusterid': ''}, {'name': 'Souza RAC', 'authtype': 'Author', 'clusterid': ''}, {'name': 'Oliveira CR', 'authtype': 'Author', 'clusterid': ''}, {'name': 'Ferreira AG', 'authtype': 'Author', 'clusterid': ''}, {'name': 'Maia PIDS', 'authtype': 'Author', 'clusterid': ''}, {'name': 'Deflon VM', 'authtype': 'Author', 'clusterid': ''}, {'name': 'Oliveira CG', 'authtype': 'Author', 'clusterid': ''}, {'name': 'Araújo TG', 'authtype': 'Author', 'clusterid': ''}]\n",
      "ID: 39771501, Title: Effect of Lipid Nanoparticle Physico-Chemical Properties and Composition on Their Interaction with the Immune System., Authors: [{'name': 'Catenacci L', 'authtype': 'Author', 'clusterid': ''}, {'name': 'Rossi R', 'authtype': 'Author', 'clusterid': ''}, {'name': 'Sechi F', 'authtype': 'Author', 'clusterid': ''}, {'name': 'Buonocore D', 'authtype': 'Author', 'clusterid': ''}, {'name': 'Sorrenti M', 'authtype': 'Author', 'clusterid': ''}, {'name': 'Perteghella S', 'authtype': 'Author', 'clusterid': ''}, {'name': 'Peviani M', 'authtype': 'Author', 'clusterid': ''}, {'name': 'Bonferoni MC', 'authtype': 'Author', 'clusterid': ''}]\n",
      "ID: 39770927, Title: Nutritional Risks of Heavy Metals in the Human Diet-Multi-Elemental Analysis of Energy Drinks., Authors: [{'name': 'Czarnek K', 'authtype': 'Author', 'clusterid': ''}, {'name': 'Tatarczak-Michalewska M', 'authtype': 'Author', 'clusterid': ''}, {'name': 'Wójcik G', 'authtype': 'Author', 'clusterid': ''}, {'name': 'Szopa A', 'authtype': 'Author', 'clusterid': ''}, {'name': 'Majerek D', 'authtype': 'Author', 'clusterid': ''}, {'name': 'Fila K', 'authtype': 'Author', 'clusterid': ''}, {'name': 'Hamitoglu M', 'authtype': 'Author', 'clusterid': ''}, {'name': 'Gogacz M', 'authtype': 'Author', 'clusterid': ''}, {'name': 'Blicharska E', 'authtype': 'Author', 'clusterid': ''}]\n",
      "ID: 39770487, Title: An Azomethine Derivative, BCS3, Targets XIAP and cIAP1/2 to Arrest Breast Cancer Progression Through MDM2-p53 and Bcl-2-Caspase Signaling Modulation., Authors: [{'name': 'Acharya R', 'authtype': 'Author', 'clusterid': ''}, {'name': 'Deb PK', 'authtype': 'Author', 'clusterid': ''}, {'name': 'Venugopala KN', 'authtype': 'Author', 'clusterid': ''}, {'name': 'Pattanayak SP', 'authtype': 'Author', 'clusterid': ''}]\n",
      "ID: 39770472, Title: Liposomal and Nanostructured Lipid Nanoformulations of a Pentacyclic Triterpenoid Birch Bark Extract: Structural Characterization and In Vitro Effects on Melanoma B16-F10 and Walker 256 Tumor Cells Apoptosis., Authors: [{'name': 'Rugină D', 'authtype': 'Author', 'clusterid': ''}, {'name': 'Socaciu MA', 'authtype': 'Author', 'clusterid': ''}, {'name': 'Nistor M', 'authtype': 'Author', 'clusterid': ''}, {'name': 'Diaconeasa Z', 'authtype': 'Author', 'clusterid': ''}, {'name': 'Cenariu M', 'authtype': 'Author', 'clusterid': ''}, {'name': 'Tabaran FA', 'authtype': 'Author', 'clusterid': ''}, {'name': 'Socaciu C', 'authtype': 'Author', 'clusterid': ''}]\n",
      "ID: 39770406, Title: Sparstolonin B Reduces Estrogen-Dependent Proliferation in Cancer Cells: Possible Role of Ceramide and PI3K/AKT/mTOR Inhibition., Authors: [{'name': 'Dilber Y', 'authtype': 'Author', 'clusterid': ''}, {'name': 'Çeker HT', 'authtype': 'Author', 'clusterid': ''}, {'name': 'Öztüzün A', 'authtype': 'Author', 'clusterid': ''}, {'name': 'Çırçırlı B', 'authtype': 'Author', 'clusterid': ''}, {'name': 'Kırımlıoğlu E', 'authtype': 'Author', 'clusterid': ''}, {'name': 'Barut Z', 'authtype': 'Author', 'clusterid': ''}, {'name': 'Aslan M', 'authtype': 'Author', 'clusterid': ''}]\n",
      "ID: 39770404, Title: mTOR Pathway Inhibition, Anticancer Activity and In Silico Calculations of Novel Hydrazone Derivatives in Two- and Three-Dimensional Cultured Type 1 Endometrial Cancer Cells., Authors: [{'name': 'Bulbul MV', 'authtype': 'Author', 'clusterid': ''}, {'name': 'Mermer A', 'authtype': 'Author', 'clusterid': ''}, {'name': 'Kolbasi B', 'authtype': 'Author', 'clusterid': ''}, {'name': 'Kocabas F', 'authtype': 'Author', 'clusterid': ''}, {'name': 'Kalender SM', 'authtype': 'Author', 'clusterid': ''}, {'name': 'Kirectepe Aydin KA', 'authtype': 'Author', 'clusterid': ''}, {'name': 'Demircan T', 'authtype': 'Author', 'clusterid': ''}, {'name': 'Keskin İ', 'authtype': 'Author', 'clusterid': ''}]\n",
      "ID: 39770249, Title: Concave Microwell Formation Induced by PDMS Water Vapor Permeability for Spheroid Generation., Authors: [{'name': 'Lim MC', 'authtype': 'Author', 'clusterid': ''}, {'name': 'Kim TY', 'authtype': 'Author', 'clusterid': ''}, {'name': 'Ok G', 'authtype': 'Author', 'clusterid': ''}, {'name': 'Kim HJ', 'authtype': 'Author', 'clusterid': ''}, {'name': 'Choi YS', 'authtype': 'Author', 'clusterid': ''}, {'name': 'Kim YR', 'authtype': 'Author', 'clusterid': ''}]\n",
      "ID: 39770115, Title: Polyphenols and Microbiota Modulation: Insights from Swine and Other Animal Models for Human Therapeutic Strategies., Authors: [{'name': 'Anghel AC', 'authtype': 'Author', 'clusterid': ''}, {'name': 'Țăranu I', 'authtype': 'Author', 'clusterid': ''}, {'name': 'Orțan A', 'authtype': 'Author', 'clusterid': ''}, {'name': 'Marcu Spinu S', 'authtype': 'Author', 'clusterid': ''}, {'name': 'Dragoi Cudalbeanu M', 'authtype': 'Author', 'clusterid': ''}, {'name': 'Rosu PM', 'authtype': 'Author', 'clusterid': ''}, {'name': 'Băbeanu NE', 'authtype': 'Author', 'clusterid': ''}]\n",
      "ID: 39769488, Title: The Impact of Calcium Overload on Cellular Processes: Exploring Calcicoptosis and Its Therapeutic Potential in Cancer., Authors: [{'name': 'Gielecińska A', 'authtype': 'Author', 'clusterid': ''}, {'name': 'Kciuk M', 'authtype': 'Author', 'clusterid': ''}, {'name': 'Kontek R', 'authtype': 'Author', 'clusterid': ''}]\n",
      "ID: 39769470, Title: Untargeted Mutation Triggered by Ribonucleoside Embedded in DNA., Authors: [{'name': 'Suzuki T', 'authtype': 'Author', 'clusterid': ''}, {'name': 'Yasui K', 'authtype': 'Author', 'clusterid': ''}, {'name': 'Komatsu Y', 'authtype': 'Author', 'clusterid': ''}, {'name': 'Kamiya H', 'authtype': 'Author', 'clusterid': ''}]\n",
      "ID: 39769463, Title: Conjugated Human Serum Albumin/Gold-Silica Nanoparticles as Multifunctional Carrier of a Chemotherapeutic Drug., Authors: [{'name': 'Morrone E', 'authtype': 'Author', 'clusterid': ''}, {'name': 'Sancey L', 'authtype': 'Author', 'clusterid': ''}, {'name': 'Dalonneau F', 'authtype': 'Author', 'clusterid': ''}, {'name': 'Ricciardi L', 'authtype': 'Author', 'clusterid': ''}, {'name': 'La Deda M', 'authtype': 'Author', 'clusterid': ''}]\n",
      "ID: 39769457, Title: EWSR1::ATF1 Translocation: A Common Tumor Driver of Distinct Human Neoplasms., Authors: [{'name': 'Bianco JR', 'authtype': 'Author', 'clusterid': ''}, {'name': 'Li Y', 'authtype': 'Author', 'clusterid': ''}, {'name': 'Petranyi A', 'authtype': 'Author', 'clusterid': ''}, {'name': 'Fabian Z', 'authtype': 'Author', 'clusterid': ''}]\n",
      "ID: 39769428, Title: Hyperthermia Potentiates the Effectiveness of Anticancer Drugs-Cisplatin and Tamoxifen on Ovarian Cancer Cells In Vitro., Authors: [{'name': 'Zoń A', 'authtype': 'Author', 'clusterid': ''}, {'name': 'Bednarek IA', 'authtype': 'Author', 'clusterid': ''}]\n",
      "ID: 39769419, Title: Whole-Exome Analysis and Osteosarcoma: A Game Still Open., Authors: [{'name': 'Chiappetta C', 'authtype': 'Author', 'clusterid': ''}, {'name': 'Della Rocca C', 'authtype': 'Author', 'clusterid': ''}, {'name': 'Di Cristofano C', 'authtype': 'Author', 'clusterid': ''}]\n",
      "ID: 39769349, Title: Oat Beta-Glucans Modulate the Gut Microbiome, Barrier Function, and Immune Responses in an In Vivo Model of Early-Stage Colorectal Cancer., Authors: [{'name': 'Guzowska M', 'authtype': 'Author', 'clusterid': ''}, {'name': 'Dziendzikowska K', 'authtype': 'Author', 'clusterid': ''}, {'name': 'Kopiasz Ł', 'authtype': 'Author', 'clusterid': ''}, {'name': 'Gajewska M', 'authtype': 'Author', 'clusterid': ''}, {'name': 'Wilczak J', 'authtype': 'Author', 'clusterid': ''}, {'name': 'Harasym J', 'authtype': 'Author', 'clusterid': ''}, {'name': 'Czerwińska M', 'authtype': 'Author', 'clusterid': ''}, {'name': 'Gromadzka-Ostrowska J', 'authtype': 'Author', 'clusterid': ''}]\n",
      "ID: 39769237, Title: Oleanolic Acid Modulates DNA Damage Response to Camptothecin Increasing Cancer Cell Death., Authors: [{'name': 'Mazzarotti G', 'authtype': 'Author', 'clusterid': ''}, {'name': 'Cuomo M', 'authtype': 'Author', 'clusterid': ''}, {'name': 'Ragosta MC', 'authtype': 'Author', 'clusterid': ''}, {'name': 'Russo A', 'authtype': 'Author', 'clusterid': ''}, {'name': \"D'Angelo M\", 'authtype': 'Author', 'clusterid': ''}, {'name': 'Medugno A', 'authtype': 'Author', 'clusterid': ''}, {'name': 'Napolitano GM', 'authtype': 'Author', 'clusterid': ''}, {'name': 'Iannuzzi CA', 'authtype': 'Author', 'clusterid': ''}, {'name': 'Forte IM', 'authtype': 'Author', 'clusterid': ''}, {'name': 'Camerlingo R', 'authtype': 'Author', 'clusterid': ''}, {'name': 'Burk S', 'authtype': 'Author', 'clusterid': ''}, {'name': 'Errichiello F', 'authtype': 'Author', 'clusterid': ''}, {'name': 'Frusciante L', 'authtype': 'Author', 'clusterid': ''}, {'name': 'Forino M', 'authtype': 'Author', 'clusterid': ''}, {'name': 'Campitiello MR', 'authtype': 'Author', 'clusterid': ''}, {'name': 'De Laurentiis M', 'authtype': 'Author', 'clusterid': ''}, {'name': 'Giordano A', 'authtype': 'Author', 'clusterid': ''}, {'name': 'Alfano L', 'authtype': 'Author', 'clusterid': ''}]\n"
     ]
    }
   ],
   "source": [
    "def fetch_paper_details(pubmed_ids):\n",
    "    DETAILS_API_URL = \"https://eutils.ncbi.nlm.nih.gov/entrez/eutils/esummary.fcgi\"\n",
    "    params = {\n",
    "        'db': 'pubmed',\n",
    "        'id': ','.join(pubmed_ids),\n",
    "        'retmode': 'json'\n",
    "    }\n",
    "    response = requests.get(DETAILS_API_URL, params=params)\n",
    "    response.raise_for_status()\n",
    "    data = response.json()\n",
    "    return data.get(\"result\", {})\n",
    "\n",
    "# Test the function\n",
    "paper_details = fetch_paper_details(pubmed_ids)\n",
    "for paper_id, details in paper_details.items():\n",
    "    if paper_id != \"uids\":  # Skip the 'uids' key from the API response\n",
    "        print(f\"ID: {paper_id}, Title: {details.get('title')}, Authors: {details.get('authors')}\")\n"
   ]
  },
  {
   "cell_type": "code",
   "execution_count": 7,
   "id": "dcfc680b-c0b6-4915-bf3b-e2a00f3838d6",
   "metadata": {},
   "outputs": [
    {
     "name": "stdout",
     "output_type": "stream",
     "text": [
      "Paper ID: 39772264\n",
      "Non-academic Authors: [{'name': 'Elsner L', 'affiliation': None}, {'name': 'Dieringer B', 'affiliation': None}, {'name': 'Geisler A', 'affiliation': None}, {'name': 'Girod M', 'affiliation': None}, {'name': 'Van Linthout S', 'affiliation': None}, {'name': 'Kurreck J', 'affiliation': None}, {'name': 'Fechner H', 'affiliation': None}]\n",
      "Paper ID: 39772162\n",
      "Non-academic Authors: [{'name': 'Lamsisi M', 'affiliation': None}, {'name': 'Benlghazi A', 'affiliation': None}, {'name': 'Kouach J', 'affiliation': None}, {'name': 'Laraqui A', 'affiliation': None}, {'name': 'Ennaji MM', 'affiliation': None}, {'name': 'Chauleur C', 'affiliation': None}, {'name': 'Bourlet T', 'affiliation': None}, {'name': 'Li G', 'affiliation': None}]\n",
      "Paper ID: 39771591\n",
      "Non-academic Authors: [{'name': 'Bazylevich A', 'affiliation': None}, {'name': 'Miller A', 'affiliation': None}, {'name': 'Tkachenko I', 'affiliation': None}, {'name': 'Merlani M', 'affiliation': None}, {'name': 'Patsenker L', 'affiliation': None}, {'name': 'Gellerman G', 'affiliation': None}, {'name': 'Lubin BCR', 'affiliation': None}]\n",
      "Paper ID: 39771588\n",
      "Non-academic Authors: [{'name': 'Machado RADS', 'affiliation': None}, {'name': 'Siqueira RP', 'affiliation': None}, {'name': 'da Silva FC', 'affiliation': None}, {'name': 'Matos ACP', 'affiliation': None}, {'name': 'Borges DS', 'affiliation': None}, {'name': 'Rocha GG', 'affiliation': None}, {'name': 'Souza TCP', 'affiliation': None}, {'name': 'Souza RAC', 'affiliation': None}, {'name': 'Oliveira CR', 'affiliation': None}, {'name': 'Ferreira AG', 'affiliation': None}, {'name': 'Maia PIDS', 'affiliation': None}, {'name': 'Deflon VM', 'affiliation': None}, {'name': 'Oliveira CG', 'affiliation': None}, {'name': 'Araújo TG', 'affiliation': None}]\n",
      "Paper ID: 39771501\n",
      "Non-academic Authors: [{'name': 'Catenacci L', 'affiliation': None}, {'name': 'Rossi R', 'affiliation': None}, {'name': 'Sechi F', 'affiliation': None}, {'name': 'Buonocore D', 'affiliation': None}, {'name': 'Sorrenti M', 'affiliation': None}, {'name': 'Perteghella S', 'affiliation': None}, {'name': 'Peviani M', 'affiliation': None}, {'name': 'Bonferoni MC', 'affiliation': None}]\n",
      "Paper ID: 39770927\n",
      "Non-academic Authors: [{'name': 'Czarnek K', 'affiliation': None}, {'name': 'Tatarczak-Michalewska M', 'affiliation': None}, {'name': 'Wójcik G', 'affiliation': None}, {'name': 'Szopa A', 'affiliation': None}, {'name': 'Majerek D', 'affiliation': None}, {'name': 'Fila K', 'affiliation': None}, {'name': 'Hamitoglu M', 'affiliation': None}, {'name': 'Gogacz M', 'affiliation': None}, {'name': 'Blicharska E', 'affiliation': None}]\n",
      "Paper ID: 39770487\n",
      "Non-academic Authors: [{'name': 'Acharya R', 'affiliation': None}, {'name': 'Deb PK', 'affiliation': None}, {'name': 'Venugopala KN', 'affiliation': None}, {'name': 'Pattanayak SP', 'affiliation': None}]\n",
      "Paper ID: 39770472\n",
      "Non-academic Authors: [{'name': 'Rugină D', 'affiliation': None}, {'name': 'Socaciu MA', 'affiliation': None}, {'name': 'Nistor M', 'affiliation': None}, {'name': 'Diaconeasa Z', 'affiliation': None}, {'name': 'Cenariu M', 'affiliation': None}, {'name': 'Tabaran FA', 'affiliation': None}, {'name': 'Socaciu C', 'affiliation': None}]\n",
      "Paper ID: 39770406\n",
      "Non-academic Authors: [{'name': 'Dilber Y', 'affiliation': None}, {'name': 'Çeker HT', 'affiliation': None}, {'name': 'Öztüzün A', 'affiliation': None}, {'name': 'Çırçırlı B', 'affiliation': None}, {'name': 'Kırımlıoğlu E', 'affiliation': None}, {'name': 'Barut Z', 'affiliation': None}, {'name': 'Aslan M', 'affiliation': None}]\n",
      "Paper ID: 39770404\n",
      "Non-academic Authors: [{'name': 'Bulbul MV', 'affiliation': None}, {'name': 'Mermer A', 'affiliation': None}, {'name': 'Kolbasi B', 'affiliation': None}, {'name': 'Kocabas F', 'affiliation': None}, {'name': 'Kalender SM', 'affiliation': None}, {'name': 'Kirectepe Aydin KA', 'affiliation': None}, {'name': 'Demircan T', 'affiliation': None}, {'name': 'Keskin İ', 'affiliation': None}]\n",
      "Paper ID: 39770249\n",
      "Non-academic Authors: [{'name': 'Lim MC', 'affiliation': None}, {'name': 'Kim TY', 'affiliation': None}, {'name': 'Ok G', 'affiliation': None}, {'name': 'Kim HJ', 'affiliation': None}, {'name': 'Choi YS', 'affiliation': None}, {'name': 'Kim YR', 'affiliation': None}]\n",
      "Paper ID: 39770115\n",
      "Non-academic Authors: [{'name': 'Anghel AC', 'affiliation': None}, {'name': 'Țăranu I', 'affiliation': None}, {'name': 'Orțan A', 'affiliation': None}, {'name': 'Marcu Spinu S', 'affiliation': None}, {'name': 'Dragoi Cudalbeanu M', 'affiliation': None}, {'name': 'Rosu PM', 'affiliation': None}, {'name': 'Băbeanu NE', 'affiliation': None}]\n",
      "Paper ID: 39769488\n",
      "Non-academic Authors: [{'name': 'Gielecińska A', 'affiliation': None}, {'name': 'Kciuk M', 'affiliation': None}, {'name': 'Kontek R', 'affiliation': None}]\n",
      "Paper ID: 39769470\n",
      "Non-academic Authors: [{'name': 'Suzuki T', 'affiliation': None}, {'name': 'Yasui K', 'affiliation': None}, {'name': 'Komatsu Y', 'affiliation': None}, {'name': 'Kamiya H', 'affiliation': None}]\n",
      "Paper ID: 39769463\n",
      "Non-academic Authors: [{'name': 'Morrone E', 'affiliation': None}, {'name': 'Sancey L', 'affiliation': None}, {'name': 'Dalonneau F', 'affiliation': None}, {'name': 'Ricciardi L', 'affiliation': None}, {'name': 'La Deda M', 'affiliation': None}]\n",
      "Paper ID: 39769457\n",
      "Non-academic Authors: [{'name': 'Bianco JR', 'affiliation': None}, {'name': 'Li Y', 'affiliation': None}, {'name': 'Petranyi A', 'affiliation': None}, {'name': 'Fabian Z', 'affiliation': None}]\n",
      "Paper ID: 39769428\n",
      "Non-academic Authors: [{'name': 'Zoń A', 'affiliation': None}, {'name': 'Bednarek IA', 'affiliation': None}]\n",
      "Paper ID: 39769419\n",
      "Non-academic Authors: [{'name': 'Chiappetta C', 'affiliation': None}, {'name': 'Della Rocca C', 'affiliation': None}, {'name': 'Di Cristofano C', 'affiliation': None}]\n",
      "Paper ID: 39769349\n",
      "Non-academic Authors: [{'name': 'Guzowska M', 'affiliation': None}, {'name': 'Dziendzikowska K', 'affiliation': None}, {'name': 'Kopiasz Ł', 'affiliation': None}, {'name': 'Gajewska M', 'affiliation': None}, {'name': 'Wilczak J', 'affiliation': None}, {'name': 'Harasym J', 'affiliation': None}, {'name': 'Czerwińska M', 'affiliation': None}, {'name': 'Gromadzka-Ostrowska J', 'affiliation': None}]\n",
      "Paper ID: 39769237\n",
      "Non-academic Authors: [{'name': 'Mazzarotti G', 'affiliation': None}, {'name': 'Cuomo M', 'affiliation': None}, {'name': 'Ragosta MC', 'affiliation': None}, {'name': 'Russo A', 'affiliation': None}, {'name': \"D'Angelo M\", 'affiliation': None}, {'name': 'Medugno A', 'affiliation': None}, {'name': 'Napolitano GM', 'affiliation': None}, {'name': 'Iannuzzi CA', 'affiliation': None}, {'name': 'Forte IM', 'affiliation': None}, {'name': 'Camerlingo R', 'affiliation': None}, {'name': 'Burk S', 'affiliation': None}, {'name': 'Errichiello F', 'affiliation': None}, {'name': 'Frusciante L', 'affiliation': None}, {'name': 'Forino M', 'affiliation': None}, {'name': 'Campitiello MR', 'affiliation': None}, {'name': 'De Laurentiis M', 'affiliation': None}, {'name': 'Giordano A', 'affiliation': None}, {'name': 'Alfano L', 'affiliation': None}]\n"
     ]
    }
   ],
   "source": [
    "def identify_non_academic_authors(authors):\n",
    "    non_academic_authors = []\n",
    "    for author in authors:\n",
    "        affiliation = author.get(\"affiliation\", \"\").lower()\n",
    "        # A simple heuristic to exclude academic affiliations\n",
    "        if \"university\" not in affiliation and \"institute\" not in affiliation:\n",
    "            non_academic_authors.append({\n",
    "                \"name\": author.get(\"name\"),\n",
    "                \"affiliation\": author.get(\"affiliation\")\n",
    "            })\n",
    "    return non_academic_authors\n",
    "\n",
    "# Test the function\n",
    "for paper_id, details in paper_details.items():\n",
    "    if paper_id != \"uids\" and \"authors\" in details:\n",
    "        non_academic_authors = identify_non_academic_authors(details[\"authors\"])\n",
    "        if non_academic_authors:\n",
    "            print(f\"Paper ID: {paper_id}\")\n",
    "            print(f\"Non-academic Authors: {non_academic_authors}\")\n"
   ]
  },
  {
   "cell_type": "code",
   "execution_count": 8,
   "id": "542bfb4f-ac96-47f9-ac3d-e02371bd66ec",
   "metadata": {},
   "outputs": [
    {
     "name": "stdout",
     "output_type": "stream",
     "text": [
      "Results saved to pubmed_results.csv\n"
     ]
    }
   ],
   "source": [
    "import csv\n",
    "\n",
    "def save_to_csv(data, filename):\n",
    "    with open(filename, mode='w', newline='', encoding='utf-8') as file:\n",
    "        writer = csv.DictWriter(file, fieldnames=[\"PubmedID\", \"Title\", \"Publication Date\", \"Non-academic Authors\", \"Company Affiliations\", \"Corresponding Author Email\"])\n",
    "        writer.writeheader()\n",
    "        for row in data:\n",
    "            writer.writerow(row)\n",
    "\n",
    "# Test the function\n",
    "# Prepare the data to save\n",
    "results = []\n",
    "for paper_id, details in paper_details.items():\n",
    "    if paper_id != \"uids\" and \"authors\" in details:\n",
    "        non_academic_authors = identify_non_academic_authors(details[\"authors\"])\n",
    "        if non_academic_authors:\n",
    "            results.append({\n",
    "                \"PubmedID\": paper_id,\n",
    "                \"Title\": details.get(\"title\"),\n",
    "                \"Publication Date\": details.get(\"pubdate\"),\n",
    "                \"Non-academic Authors\": \"; \".join([auth['name'] for auth in non_academic_authors]),\n",
    "                \"Company Affiliations\": \"; \".join([auth['affiliation'] for auth in non_academic_authors if auth['affiliation']]),\n",
    "                \"Corresponding Author Email\": details.get(\"corresponding_author_email\", \"N/A\")\n",
    "            })\n",
    "\n",
    "# Save results to a CSV file\n",
    "save_to_csv(results, \"pubmed_results.csv\")\n",
    "print(\"Results saved to pubmed_results.csv\")\n"
   ]
  },
  {
   "cell_type": "code",
   "execution_count": null,
   "id": "7558a48f-bd18-45bf-8ca4-051eca2c8efd",
   "metadata": {},
   "outputs": [],
   "source": []
  },
  {
   "cell_type": "code",
   "execution_count": 9,
   "id": "534e1add-6f3d-4b47-97cf-d45a0bd3b057",
   "metadata": {},
   "outputs": [],
   "source": [
    "def fetch_affiliations(pubmed_id):\n",
    "    EFETCH_API_URL = \"https://eutils.ncbi.nlm.nih.gov/entrez/eutils/efetch.fcgi\"\n",
    "    params = {\n",
    "        'db': 'pubmed',\n",
    "        'id': pubmed_id,\n",
    "        'retmode': 'xml'\n",
    "    }\n",
    "    response = requests.get(EFETCH_API_URL, params=params)\n",
    "    response.raise_for_status()\n",
    "    return response.text\n"
   ]
  },
  {
   "cell_type": "code",
   "execution_count": 10,
   "id": "f1621874-eaf8-4142-b262-e4aa4443f303",
   "metadata": {},
   "outputs": [],
   "source": [
    "xml_data = fetch_affiliations(\"39772264\")\n",
    "\n"
   ]
  },
  {
   "cell_type": "code",
   "execution_count": 11,
   "id": "751a14f8-1db5-4436-87dd-6ed70366e6df",
   "metadata": {},
   "outputs": [
    {
     "data": {
      "text/plain": [
       "'<?xml version=\"1.0\" ?>\\n<!DOCTYPE PubmedArticleSet PUBLIC \"-//NLM//DTD PubMedArticle, 1st January 2024//EN\" \"https://dtd.nlm.nih.gov/ncbi/pubmed/out/pubmed_240101.dtd\">\\n<PubmedArticleSet>\\n<PubmedArticle><MedlineCitation Status=\"MEDLINE\" Owner=\"NLM\" IndexingMethod=\"Automated\"><PMID Version=\"1\">39772264</PMID><DateCompleted><Year>2025</Year><Month>01</Month><Day>08</Day></DateCompleted><DateRevised><Year>2025</Year><Month>01</Month><Day>08</Day></DateRevised><Article PubModel=\"Electronic\"><Journal><ISSN IssnType=\"Electronic\">1999-4915</ISSN><JournalIssue CitedMedium=\"Internet\"><Volume>16</Volume><Issue>12</Issue><PubDate><Year>2024</Year><Month>Dec</Month><Day>20</Day></PubDate></JournalIssue><Title>Viruses</Title><ISOAbbreviation>Viruses</ISOAbbreviation></Journal><ArticleTitle>Optimized Directed Virus Evolution to Accelerate the Generation of Oncolytic Coxsackievirus B3 Adapted to Resistant Colorectal Cancer Cells.</ArticleTitle><ELocationID EIdType=\"pii\" ValidYN=\"Y\">1958</ELocationID><ELocationID EIdType=\"doi\" ValidYN=\"Y\">10.3390/v16121958</ELocationID><Abstract><AbstractText>Recently, we demonstrated that the oncolytic Coxsackievirus B3 (CVB3) strain PD-H can be efficiently adapted to resistant colorectal cancer cells through dose-dependent passaging in colorectal cancer cells. However, the method is time-consuming, which limits its clinical applicability. Here, we investigated whether the manufacturing time of the adapted virus can be reduced by replacing the dose-based passaging with volume-based passaging. For this purpose, the murine colorectal carcinoma cell line MC38, resistant to PD-H-induced lysis, was initially infected with PD-H at 0.1 multiplicity of infection (MOI). For subsequent passages, 15-30 &#xb5;L of a 1:10 dilution of the cell culture supernatant was transferred to fresh MC38 cells early after virus-induced cell lysis became visible. By virus passage 10, complete cell lysis of MC38 cells was achieved. Sequencing of the passage 10 virus (P-10) revealed two nucleotide substitutions in the 5\\' UTR and six amino acid changes in the viral polyprotein compared to the PD-H founder. P-10, however, consisted of a heterogeneous virus population. Therefore, the detected mutations were introduced into the cDNA of PD-H, from which the recombinant virus PD-MC38 was generated. PD-MC38 exhibited significantly enhanced replication and lytic activity in MC38 cells compared to PD-H, whereas its oncolytic activity in other colorectal cancer cell lines was comparable to or even lower than that of PD-H. These findings demonstrate that volume-based passaging is suitable to generate tumor cell-specific adapted PD-H. Moreover, compared to the dose-dependent passaging, volume-based passaging significantly reduced the time required to generate the adapted virus.</AbstractText></Abstract><AuthorList CompleteYN=\"Y\"><Author ValidYN=\"Y\"><LastName>Elsner</LastName><ForeName>Leslie</ForeName><Initials>L</Initials><AffiliationInfo><Affiliation>Department of Applied Biochemistry, Institute of Biotechnology, Technische Universit&#xe4;t Berlin, 13355 Berlin, Germany.</Affiliation></AffiliationInfo></Author><Author ValidYN=\"Y\"><LastName>Dieringer</LastName><ForeName>Babette</ForeName><Initials>B</Initials><AffiliationInfo><Affiliation>Department of Applied Biochemistry, Institute of Biotechnology, Technische Universit&#xe4;t Berlin, 13355 Berlin, Germany.</Affiliation></AffiliationInfo></Author><Author ValidYN=\"Y\"><LastName>Geisler</LastName><ForeName>Anja</ForeName><Initials>A</Initials><AffiliationInfo><Affiliation>Department of Applied Biochemistry, Institute of Biotechnology, Technische Universit&#xe4;t Berlin, 13355 Berlin, Germany.</Affiliation></AffiliationInfo></Author><Author ValidYN=\"Y\"><LastName>Girod</LastName><ForeName>Maxim</ForeName><Initials>M</Initials><AffiliationInfo><Affiliation>Department of Applied Biochemistry, Institute of Biotechnology, Technische Universit&#xe4;t Berlin, 13355 Berlin, Germany.</Affiliation></AffiliationInfo></Author><Author ValidYN=\"Y\"><LastName>Van Linthout</LastName><ForeName>Sophie</ForeName><Initials>S</Initials><Identifier Source=\"ORCID\">0000-0002-7581-7870</Identifier><AffiliationInfo><Affiliation>Berlin Institute of Health (BIH) at Charit&#xe9;-Universit&#xe4;tsmedizin Berlin, BIH Center for Regenerative Therapies (BCRT), 13353 Berlin, Germany.</Affiliation></AffiliationInfo><AffiliationInfo><Affiliation>German Center for Cardiovascular Research (DZHK), Partner Site Berlin, 13092 Berlin, Germany.</Affiliation></AffiliationInfo></Author><Author ValidYN=\"Y\"><LastName>Kurreck</LastName><ForeName>Jens</ForeName><Initials>J</Initials><Identifier Source=\"ORCID\">0000-0002-1469-0052</Identifier><AffiliationInfo><Affiliation>Department of Applied Biochemistry, Institute of Biotechnology, Technische Universit&#xe4;t Berlin, 13355 Berlin, Germany.</Affiliation></AffiliationInfo></Author><Author ValidYN=\"Y\"><LastName>Fechner</LastName><ForeName>Henry</ForeName><Initials>H</Initials><Identifier Source=\"ORCID\">0000-0002-7082-4350</Identifier><AffiliationInfo><Affiliation>Department of Applied Biochemistry, Institute of Biotechnology, Technische Universit&#xe4;t Berlin, 13355 Berlin, Germany.</Affiliation></AffiliationInfo></Author></AuthorList><Language>eng</Language><GrantList CompleteYN=\"Y\"><Grant><GrantID>70115068 and 70115119</GrantID><Agency>German Cancer Aid</Agency><Country/></Grant><Grant><GrantID>70115068 and 70115119</GrantID><Agency>Wilhelm Sander Stiftung</Agency><Country/></Grant></GrantList><PublicationTypeList><PublicationType UI=\"D016428\">Journal Article</PublicationType></PublicationTypeList><ArticleDate DateType=\"Electronic\"><Year>2024</Year><Month>12</Month><Day>20</Day></ArticleDate></Article><MedlineJournalInfo><Country>Switzerland</Country><MedlineTA>Viruses</MedlineTA><NlmUniqueID>101509722</NlmUniqueID><ISSNLinking>1999-4915</ISSNLinking></MedlineJournalInfo><CitationSubset>IM</CitationSubset><MeshHeadingList><MeshHeading><DescriptorName UI=\"D015179\" MajorTopicYN=\"Y\">Colorectal Neoplasms</DescriptorName><QualifierName UI=\"Q000628\" MajorTopicYN=\"N\">therapy</QualifierName><QualifierName UI=\"Q000821\" MajorTopicYN=\"N\">virology</QualifierName></MeshHeading><MeshHeading><DescriptorName UI=\"D000818\" MajorTopicYN=\"N\">Animals</DescriptorName></MeshHeading><MeshHeading><DescriptorName UI=\"D050504\" MajorTopicYN=\"Y\">Oncolytic Viruses</DescriptorName><QualifierName UI=\"Q000235\" MajorTopicYN=\"N\">genetics</QualifierName><QualifierName UI=\"Q000502\" MajorTopicYN=\"N\">physiology</QualifierName></MeshHeading><MeshHeading><DescriptorName UI=\"D051379\" MajorTopicYN=\"N\">Mice</DescriptorName></MeshHeading><MeshHeading><DescriptorName UI=\"D045744\" MajorTopicYN=\"N\">Cell Line, Tumor</DescriptorName></MeshHeading><MeshHeading><DescriptorName UI=\"D050130\" MajorTopicYN=\"Y\">Oncolytic Virotherapy</DescriptorName><QualifierName UI=\"Q000379\" MajorTopicYN=\"N\">methods</QualifierName></MeshHeading><MeshHeading><DescriptorName UI=\"D029822\" MajorTopicYN=\"Y\">Enterovirus B, Human</DescriptorName><QualifierName UI=\"Q000235\" MajorTopicYN=\"N\">genetics</QualifierName><QualifierName UI=\"Q000502\" MajorTopicYN=\"N\">physiology</QualifierName></MeshHeading><MeshHeading><DescriptorName UI=\"D006801\" MajorTopicYN=\"N\">Humans</DescriptorName></MeshHeading><MeshHeading><DescriptorName UI=\"D014779\" MajorTopicYN=\"N\">Virus Replication</DescriptorName></MeshHeading><MeshHeading><DescriptorName UI=\"D019020\" MajorTopicYN=\"N\">Directed Molecular Evolution</DescriptorName></MeshHeading></MeshHeadingList><KeywordList Owner=\"NOTNLM\"><Keyword MajorTopicYN=\"N\">Coxsackievirus B3</Keyword><Keyword MajorTopicYN=\"N\">PD-H</Keyword><Keyword MajorTopicYN=\"N\">colorectal carcinoma</Keyword><Keyword MajorTopicYN=\"N\">directed viral evolution</Keyword><Keyword MajorTopicYN=\"N\">oncolytic virus</Keyword></KeywordList></MedlineCitation><PubmedData><History><PubMedPubDate PubStatus=\"medline\"><Year>2025</Year><Month>1</Month><Day>8</Day><Hour>6</Hour><Minute>22</Minute></PubMedPubDate><PubMedPubDate PubStatus=\"pubmed\"><Year>2025</Year><Month>1</Month><Day>8</Day><Hour>6</Hour><Minute>21</Minute></PubMedPubDate><PubMedPubDate PubStatus=\"received\"><Year>2024</Year><Month>11</Month><Day>29</Day></PubMedPubDate><PubMedPubDate PubStatus=\"revised\"><Year>2024</Year><Month>12</Month><Day>18</Day></PubMedPubDate><PubMedPubDate PubStatus=\"accepted\"><Year>2024</Year><Month>12</Month><Day>19</Day></PubMedPubDate><PubMedPubDate PubStatus=\"entrez\"><Year>2025</Year><Month>1</Month><Day>8</Day><Hour>1</Hour><Minute>42</Minute></PubMedPubDate></History><PublicationStatus>epublish</PublicationStatus><ArticleIdList><ArticleId IdType=\"pubmed\">39772264</ArticleId><ArticleId IdType=\"doi\">10.3390/v16121958</ArticleId><ArticleId IdType=\"pii\">v16121958</ArticleId></ArticleIdList></PubmedData></PubmedArticle></PubmedArticleSet>'"
      ]
     },
     "execution_count": 11,
     "metadata": {},
     "output_type": "execute_result"
    }
   ],
   "source": [
    "xml_data"
   ]
  },
  {
   "cell_type": "code",
   "execution_count": 12,
   "id": "aee07844-880b-4def-a6e5-54de4f131118",
   "metadata": {},
   "outputs": [],
   "source": [
    "import xml.etree.ElementTree as ET\n",
    "\n",
    "def parse_affiliations(xml_data):\n",
    "    root = ET.fromstring(xml_data)\n",
    "    authors = []\n",
    "    for author in root.findall(\".//Author\"):\n",
    "        name = author.findtext(\"LastName\", \"\") + \" \" + author.findtext(\"ForeName\", \"\")\n",
    "        affiliation = author.findtext(\".//AffiliationInfo/Affiliation\", \"\")\n",
    "        authors.append({\n",
    "            \"name\": name,\n",
    "            \"affiliation\": affiliation\n",
    "        })\n",
    "    return authors\n"
   ]
  },
  {
   "cell_type": "code",
   "execution_count": 16,
   "id": "aeba214d-a82e-4faa-b324-34261dabbeea",
   "metadata": {},
   "outputs": [],
   "source": [
    "authors = parse_affiliations(xml_data)"
   ]
  },
  {
   "cell_type": "code",
   "execution_count": 15,
   "id": "f38b1873-6611-4843-b406-64ec68ebdab6",
   "metadata": {},
   "outputs": [
    {
     "name": "stderr",
     "output_type": "stream",
     "text": [
      "/Users/harryrichard/notebookss/lib/python3.13/site-packages/fuzzywuzzy/fuzz.py:11: UserWarning: Using slow pure-python SequenceMatcher. Install python-Levenshtein to remove this warning\n",
      "  warnings.warn('Using slow pure-python SequenceMatcher. Install python-Levenshtein to remove this warning')\n"
     ]
    }
   ],
   "source": [
    "from fuzzywuzzy import fuzz\n",
    "\n",
    "def identify_pharma_biotech_authors_fuzzy(authors):\n",
    "    keywords = [\"pharma\", \"biotech\", \"company\", \"corporation\", \"inc\", \"gmbh\", \"s.r.l.\"]\n",
    "    threshold = 80  # Minimum similarity score\n",
    "    pharma_authors = []\n",
    "\n",
    "    for author in authors:\n",
    "        affiliation = author.get(\"affiliation\", \"\").lower()\n",
    "        for keyword in keywords:\n",
    "            # Calculate fuzzy match score\n",
    "            similarity = fuzz.partial_ratio(keyword, affiliation)\n",
    "            if similarity >= threshold:\n",
    "                pharma_authors.append(author)\n",
    "                break  # No need to check other keywords if one matches\n",
    "    return pharma_authors\n"
   ]
  },
  {
   "cell_type": "code",
   "execution_count": 17,
   "id": "b78d6b88-ed8d-43c4-b31f-af97780c7243",
   "metadata": {},
   "outputs": [
    {
     "data": {
      "text/plain": [
       "[{'name': 'Elsner Leslie',\n",
       "  'affiliation': 'Department of Applied Biochemistry, Institute of Biotechnology, Technische Universität Berlin, 13355 Berlin, Germany.'},\n",
       " {'name': 'Dieringer Babette',\n",
       "  'affiliation': 'Department of Applied Biochemistry, Institute of Biotechnology, Technische Universität Berlin, 13355 Berlin, Germany.'},\n",
       " {'name': 'Geisler Anja',\n",
       "  'affiliation': 'Department of Applied Biochemistry, Institute of Biotechnology, Technische Universität Berlin, 13355 Berlin, Germany.'},\n",
       " {'name': 'Girod Maxim',\n",
       "  'affiliation': 'Department of Applied Biochemistry, Institute of Biotechnology, Technische Universität Berlin, 13355 Berlin, Germany.'},\n",
       " {'name': 'Kurreck Jens',\n",
       "  'affiliation': 'Department of Applied Biochemistry, Institute of Biotechnology, Technische Universität Berlin, 13355 Berlin, Germany.'},\n",
       " {'name': 'Fechner Henry',\n",
       "  'affiliation': 'Department of Applied Biochemistry, Institute of Biotechnology, Technische Universität Berlin, 13355 Berlin, Germany.'}]"
      ]
     },
     "execution_count": 17,
     "metadata": {},
     "output_type": "execute_result"
    }
   ],
   "source": [
    "identify_pharma_biotech_authors_fuzzy(authors)"
   ]
  },
  {
   "cell_type": "code",
   "execution_count": null,
   "id": "dec412d3-f236-4fab-a11a-40c8d701d228",
   "metadata": {},
   "outputs": [],
   "source": []
  }
 ],
 "metadata": {
  "kernelspec": {
   "display_name": "Python 3 (ipykernel)",
   "language": "python",
   "name": "python3"
  },
  "language_info": {
   "codemirror_mode": {
    "name": "ipython",
    "version": 3
   },
   "file_extension": ".py",
   "mimetype": "text/x-python",
   "name": "python",
   "nbconvert_exporter": "python",
   "pygments_lexer": "ipython3",
   "version": "3.13.0"
  }
 },
 "nbformat": 4,
 "nbformat_minor": 5
}
